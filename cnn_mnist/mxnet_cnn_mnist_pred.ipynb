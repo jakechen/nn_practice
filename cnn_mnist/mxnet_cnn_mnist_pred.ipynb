{
 "cells": [
  {
   "cell_type": "markdown",
   "metadata": {},
   "source": [
    "# Training and Deploying MXNet on AWS Lambda, part 2 (code)"
   ]
  },
  {
   "cell_type": "markdown",
   "metadata": {},
   "source": [
    "## Production Script"
   ]
  },
  {
   "cell_type": "code",
   "execution_count": 1,
   "metadata": {
    "collapsed": true
   },
   "outputs": [],
   "source": [
    "batch_size = 10\n",
    "\n",
    "import mxnet as mx\n",
    "import boto3\n",
    "\n",
    "s3 = boto3.client('s3')\n",
    "s3.download_file(\n",
    "    'jakechenawstemp',\n",
    "    'mnist_symbol.mxnet',\n",
    "    './mnist_symbol.mxnet'\n",
    ")\n",
    "s3.download_file(\n",
    "    'jakechenawstemp',\n",
    "    'mnist_module.mxnet',\n",
    "    './mnist_module.mxnet'\n",
    ")\n",
    "\n",
    "mnist = mx.test_utils.get_mnist()\n",
    "test_iter = mx.io.NDArrayIter(mnist['test_data'], mnist['test_label'], batch_size)\n",
    "\n",
    "type(mnist['test_data'][0])\n",
    "\n",
    "lenet2 = mx.symbol.load('./mnist_symbol.mxnet')\n",
    "lenet_model2 = mx.mod.Module(lenet2, context=mx.gpu())\n",
    "lenet_model2.bind(test_iter.provide_data, test_iter.provide_label, for_training=False)\n",
    "lenet_model2.load_params('./mnist_module.mxnet')\n",
    "\n",
    "acc = mx.metric.Accuracy()\n",
    "lenet_model2.score(test_iter, acc)\n",
    "print(acc)"
   ]
  },
  {
   "cell_type": "code",
   "execution_count": null,
   "metadata": {
    "collapsed": true
   },
   "outputs": [],
   "source": []
  }
 ],
 "metadata": {
  "kernelspec": {
   "display_name": "Python 3",
   "language": "python",
   "name": "python3"
  },
  "language_info": {
   "codemirror_mode": {
    "name": "ipython",
    "version": 3
   },
   "file_extension": ".py",
   "mimetype": "text/x-python",
   "name": "python",
   "nbconvert_exporter": "python",
   "pygments_lexer": "ipython3",
   "version": "3.5.2"
  }
 },
 "nbformat": 4,
 "nbformat_minor": 2
}
