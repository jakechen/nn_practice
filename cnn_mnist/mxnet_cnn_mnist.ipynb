{
 "cells": [
  {
   "cell_type": "markdown",
   "metadata": {
    "deletable": true,
    "editable": true
   },
   "source": [
    "# MNIST with CNN using MXNet"
   ]
  },
  {
   "cell_type": "markdown",
   "metadata": {
    "deletable": true,
    "editable": true
   },
   "source": [
    "Code mostly from http://mxnet.io/tutorials/python/mnist.html\n",
    "\n",
    "**NOTES**  \n",
    "Whereas Keras and Tensorflow use has y as one-hot incoded, MXNet takes the unique integers e.g. [5, 0, 1 ...]"
   ]
  },
  {
   "cell_type": "markdown",
   "metadata": {
    "deletable": true,
    "editable": true
   },
   "source": [
    "## Setup"
   ]
  },
  {
   "cell_type": "code",
   "execution_count": 6,
   "metadata": {
    "collapsed": false,
    "deletable": true,
    "editable": true
   },
   "outputs": [],
   "source": [
    "#from tensorflow.examples.tutorials.mnist import input_data\n",
    "#mnist = input_data.read_data_sets('./.data/', one_hot=True)\n",
    "\n",
    "from keras.datasets import mnist\n",
    "(X_train, y_train), (X_test, y_test) = mnist.load_data()"
   ]
  },
  {
   "cell_type": "code",
   "execution_count": 7,
   "metadata": {
    "collapsed": true,
    "deletable": true,
    "editable": true
   },
   "outputs": [],
   "source": [
    "import time\n",
    "import mxnet as mx # for some reason, loading mxnet before the dataset from tensorflow crashes the kernel\n",
    "import logging\n",
    "logging.getLogger().setLevel(logging.DEBUG)"
   ]
  },
  {
   "cell_type": "code",
   "execution_count": 8,
   "metadata": {
    "collapsed": false,
    "deletable": true,
    "editable": true
   },
   "outputs": [],
   "source": [
    "#X_train = mnist.train.images\n",
    "#X_test = mnist.test.images\n",
    "X_train = X_train.reshape(X_train.shape[0], 1, 28, 28).astype('float32')/255\n",
    "X_test = X_test.reshape(X_test.shape[0], 1, 28, 28).astype('float32')/255\n",
    "\n",
    "#y_train = mnist.train.labels\n",
    "#y_test = mnist.test.labels"
   ]
  },
  {
   "cell_type": "markdown",
   "metadata": {
    "deletable": true,
    "editable": true
   },
   "source": [
    "## Define network"
   ]
  },
  {
   "cell_type": "code",
   "execution_count": 13,
   "metadata": {
    "collapsed": false,
    "deletable": true,
    "editable": true
   },
   "outputs": [],
   "source": [
    "data = mx.symbol.Variable('data')\n",
    "# first conv layer\n",
    "conv1 = mx.sym.Convolution(data=data, kernel=(5,5), num_filter=32)\n",
    "relu1 = mx.sym.Activation(data=conv1, act_type=\"relu\")\n",
    "pool1 = mx.sym.Pooling(data=relu1, pool_type=\"max\", kernel=(2,2), stride=(2,2))\n",
    "# second conv layer\n",
    "conv2 = mx.sym.Convolution(data=pool1, kernel=(5,5), num_filter=64)\n",
    "relu2 = mx.sym.Activation(data=conv2, act_type=\"relu\")\n",
    "pool2 = mx.sym.Pooling(data=relu2, pool_type=\"max\", kernel=(2,2), stride=(2,2))\n",
    "# first fullc layer\n",
    "flatten = mx.sym.Flatten(data=pool2)\n",
    "fc1 = mx.symbol.FullyConnected(data=flatten, num_hidden=1024)\n",
    "relu3 = mx.sym.Activation(data=fc1, act_type=\"relu\")\n",
    "# dropout\n",
    "drop = mx.sym.Dropout(data=relu3, p=0.5)\n",
    "# second fullc\n",
    "fc2 = mx.sym.FullyConnected(data=drop, num_hidden=10)\n",
    "# softmax loss\n",
    "lenet = mx.sym.SoftmaxOutput(data=fc2, name='softmax')"
   ]
  },
  {
   "cell_type": "markdown",
   "metadata": {
    "deletable": true,
    "editable": true
   },
   "source": [
    "## Train"
   ]
  },
  {
   "cell_type": "code",
   "execution_count": 14,
   "metadata": {
    "collapsed": false,
    "deletable": true,
    "editable": true
   },
   "outputs": [
    {
     "name": "stderr",
     "output_type": "stream",
     "text": [
      "INFO:root:Epoch[0] Batch [200]\tSpeed: 2030.64 samples/sec\tTrain-accuracy=0.412139\n",
      "INFO:root:Epoch[0] Batch [400]\tSpeed: 2094.86 samples/sec\tTrain-accuracy=0.942300\n",
      "INFO:root:Epoch[0] Batch [600]\tSpeed: 2041.11 samples/sec\tTrain-accuracy=0.959500\n",
      "INFO:root:Epoch[0] Batch [800]\tSpeed: 2057.81 samples/sec\tTrain-accuracy=0.970100\n",
      "INFO:root:Epoch[0] Batch [1000]\tSpeed: 2045.58 samples/sec\tTrain-accuracy=0.974100\n",
      "INFO:root:Epoch[0] Train-accuracy=0.975578\n",
      "INFO:root:Epoch[0] Time cost=29.191\n",
      "INFO:root:Epoch[1] Batch [200]\tSpeed: 2063.14 samples/sec\tTrain-accuracy=0.978905\n",
      "INFO:root:Epoch[1] Batch [400]\tSpeed: 2035.12 samples/sec\tTrain-accuracy=0.982800\n",
      "INFO:root:Epoch[1] Batch [600]\tSpeed: 2043.50 samples/sec\tTrain-accuracy=0.982200\n",
      "INFO:root:Epoch[1] Batch [800]\tSpeed: 2052.04 samples/sec\tTrain-accuracy=0.984800\n",
      "INFO:root:Epoch[1] Batch [1000]\tSpeed: 2062.39 samples/sec\tTrain-accuracy=0.982500\n",
      "INFO:root:Epoch[1] Train-accuracy=0.984925\n",
      "INFO:root:Epoch[1] Time cost=29.223\n",
      "INFO:root:Epoch[2] Batch [200]\tSpeed: 2051.97 samples/sec\tTrain-accuracy=0.985970\n",
      "INFO:root:Epoch[2] Batch [400]\tSpeed: 2047.66 samples/sec\tTrain-accuracy=0.987700\n",
      "INFO:root:Epoch[2] Batch [600]\tSpeed: 2038.94 samples/sec\tTrain-accuracy=0.986300\n",
      "INFO:root:Epoch[2] Batch [800]\tSpeed: 2053.15 samples/sec\tTrain-accuracy=0.989100\n",
      "INFO:root:Epoch[2] Batch [1000]\tSpeed: 2052.63 samples/sec\tTrain-accuracy=0.988800\n",
      "INFO:root:Epoch[2] Train-accuracy=0.986633\n",
      "INFO:root:Epoch[2] Time cost=29.322\n",
      "INFO:root:Epoch[3] Batch [200]\tSpeed: 2038.59 samples/sec\tTrain-accuracy=0.988557\n",
      "INFO:root:Epoch[3] Batch [400]\tSpeed: 2037.83 samples/sec\tTrain-accuracy=0.988900\n",
      "INFO:root:Epoch[3] Batch [600]\tSpeed: 2037.09 samples/sec\tTrain-accuracy=0.991300\n",
      "INFO:root:Epoch[3] Batch [800]\tSpeed: 2040.70 samples/sec\tTrain-accuracy=0.990500\n",
      "INFO:root:Epoch[3] Batch [1000]\tSpeed: 2038.18 samples/sec\tTrain-accuracy=0.991000\n",
      "INFO:root:Epoch[3] Train-accuracy=0.990151\n",
      "INFO:root:Epoch[3] Time cost=29.400\n",
      "INFO:root:Epoch[4] Batch [200]\tSpeed: 2048.48 samples/sec\tTrain-accuracy=0.989751\n",
      "INFO:root:Epoch[4] Batch [400]\tSpeed: 2027.41 samples/sec\tTrain-accuracy=0.990800\n",
      "INFO:root:Epoch[4] Batch [600]\tSpeed: 2035.20 samples/sec\tTrain-accuracy=0.991000\n",
      "INFO:root:Epoch[4] Batch [800]\tSpeed: 2062.78 samples/sec\tTrain-accuracy=0.992200\n",
      "INFO:root:Epoch[4] Batch [1000]\tSpeed: 2030.51 samples/sec\tTrain-accuracy=0.991000\n",
      "INFO:root:Epoch[4] Train-accuracy=0.991357\n",
      "INFO:root:Epoch[4] Time cost=29.361\n",
      "INFO:root:Epoch[5] Batch [200]\tSpeed: 2082.95 samples/sec\tTrain-accuracy=0.992239\n",
      "INFO:root:Epoch[5] Batch [400]\tSpeed: 2049.79 samples/sec\tTrain-accuracy=0.992700\n",
      "INFO:root:Epoch[5] Batch [600]\tSpeed: 2038.47 samples/sec\tTrain-accuracy=0.991900\n",
      "INFO:root:Epoch[5] Batch [800]\tSpeed: 2035.92 samples/sec\tTrain-accuracy=0.992400\n",
      "INFO:root:Epoch[5] Batch [1000]\tSpeed: 2036.07 samples/sec\tTrain-accuracy=0.993300\n",
      "INFO:root:Epoch[5] Train-accuracy=0.992965\n",
      "INFO:root:Epoch[5] Time cost=29.256\n",
      "INFO:root:Epoch[6] Batch [200]\tSpeed: 2046.33 samples/sec\tTrain-accuracy=0.994428\n",
      "INFO:root:Epoch[6] Batch [400]\tSpeed: 2055.99 samples/sec\tTrain-accuracy=0.994300\n",
      "INFO:root:Epoch[6] Batch [600]\tSpeed: 2057.35 samples/sec\tTrain-accuracy=0.994700\n",
      "INFO:root:Epoch[6] Batch [800]\tSpeed: 2037.12 samples/sec\tTrain-accuracy=0.993000\n",
      "INFO:root:Epoch[6] Batch [1000]\tSpeed: 2095.36 samples/sec\tTrain-accuracy=0.994500\n",
      "INFO:root:Epoch[6] Train-accuracy=0.994070\n",
      "INFO:root:Epoch[6] Time cost=29.105\n",
      "INFO:root:Epoch[7] Batch [200]\tSpeed: 2070.27 samples/sec\tTrain-accuracy=0.994030\n",
      "INFO:root:Epoch[7] Batch [400]\tSpeed: 2059.86 samples/sec\tTrain-accuracy=0.993400\n",
      "INFO:root:Epoch[7] Batch [600]\tSpeed: 2067.25 samples/sec\tTrain-accuracy=0.994300\n",
      "INFO:root:Epoch[7] Batch [800]\tSpeed: 2027.09 samples/sec\tTrain-accuracy=0.994200\n",
      "INFO:root:Epoch[7] Batch [1000]\tSpeed: 2067.05 samples/sec\tTrain-accuracy=0.996100\n",
      "INFO:root:Epoch[7] Train-accuracy=0.994774\n",
      "INFO:root:Epoch[7] Time cost=29.202\n",
      "INFO:root:Epoch[8] Batch [200]\tSpeed: 2041.32 samples/sec\tTrain-accuracy=0.994428\n",
      "INFO:root:Epoch[8] Batch [400]\tSpeed: 2030.84 samples/sec\tTrain-accuracy=0.995200\n",
      "INFO:root:Epoch[8] Batch [600]\tSpeed: 2038.37 samples/sec\tTrain-accuracy=0.996400\n",
      "INFO:root:Epoch[8] Batch [800]\tSpeed: 2097.89 samples/sec\tTrain-accuracy=0.996200\n",
      "INFO:root:Epoch[8] Batch [1000]\tSpeed: 2048.57 samples/sec\tTrain-accuracy=0.996000\n",
      "INFO:root:Epoch[8] Train-accuracy=0.993970\n",
      "INFO:root:Epoch[8] Time cost=29.278\n",
      "INFO:root:Epoch[9] Batch [200]\tSpeed: 2029.50 samples/sec\tTrain-accuracy=0.994826\n",
      "INFO:root:Epoch[9] Batch [400]\tSpeed: 2054.24 samples/sec\tTrain-accuracy=0.996000\n",
      "INFO:root:Epoch[9] Batch [600]\tSpeed: 2040.03 samples/sec\tTrain-accuracy=0.995600\n",
      "INFO:root:Epoch[9] Batch [800]\tSpeed: 2058.71 samples/sec\tTrain-accuracy=0.994300\n",
      "INFO:root:Epoch[9] Batch [1000]\tSpeed: 2049.30 samples/sec\tTrain-accuracy=0.996400\n",
      "INFO:root:Epoch[9] Train-accuracy=0.996985\n",
      "INFO:root:Epoch[9] Time cost=29.275\n"
     ]
    },
    {
     "name": "stdout",
     "output_type": "stream",
     "text": [
      "training time = 293.20192194\n"
     ]
    }
   ],
   "source": [
    "mod = mx.mod.Module(lenet, context=mx.gpu(0))\n",
    "\n",
    "t0 = time.time()\n",
    "mod.fit(mx.io.NDArrayIter(X_train, label=y_train, batch_size=50, shuffle=True),\n",
    "        num_epoch=10,\n",
    "        optimizer='adadelta',\n",
    "        batch_end_callback = mx.callback.Speedometer(50, 200)\n",
    "       )\n",
    "\n",
    "print \"training time = {}\".format(time.time() - t0)"
   ]
  },
  {
   "cell_type": "markdown",
   "metadata": {
    "deletable": true,
    "editable": true
   },
   "source": [
    "## Evaluate"
   ]
  },
  {
   "cell_type": "code",
   "execution_count": 15,
   "metadata": {
    "collapsed": false,
    "deletable": true,
    "editable": true
   },
   "outputs": [
    {
     "data": {
      "text/plain": [
       "[('accuracy', 0.9904)]"
      ]
     },
     "execution_count": 15,
     "metadata": {},
     "output_type": "execute_result"
    }
   ],
   "source": [
    "metric = mx.metric.Accuracy()\n",
    "mod.score(mx.io.NDArrayIter(X_test, label=y_test, batch_size=100), metric)"
   ]
  },
  {
   "cell_type": "code",
   "execution_count": null,
   "metadata": {
    "collapsed": true
   },
   "outputs": [],
   "source": []
  }
 ],
 "metadata": {
  "kernelspec": {
   "display_name": "Python 2",
   "language": "python",
   "name": "python2"
  },
  "language_info": {
   "codemirror_mode": {
    "name": "ipython",
    "version": 2
   },
   "file_extension": ".py",
   "mimetype": "text/x-python",
   "name": "python",
   "nbconvert_exporter": "python",
   "pygments_lexer": "ipython2",
   "version": "2.7.12"
  }
 },
 "nbformat": 4,
 "nbformat_minor": 2
}
