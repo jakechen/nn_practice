{
 "cells": [
  {
   "cell_type": "markdown",
   "metadata": {},
   "source": [
    "# MNIST with CNN using Keras"
   ]
  },
  {
   "cell_type": "markdown",
   "metadata": {},
   "source": [
    "## Setup"
   ]
  },
  {
   "cell_type": "code",
   "execution_count": 1,
   "metadata": {},
   "outputs": [
    {
     "name": "stderr",
     "output_type": "stream",
     "text": [
      "Using TensorFlow backend.\n"
     ]
    },
    {
     "name": "stdout",
     "output_type": "stream",
     "text": [
      "Extracting ./.data/train-images-idx3-ubyte.gz\n",
      "Extracting ./.data/train-labels-idx1-ubyte.gz\n",
      "Extracting ./.data/t10k-images-idx3-ubyte.gz\n",
      "Extracting ./.data/t10k-labels-idx1-ubyte.gz\n"
     ]
    }
   ],
   "source": [
    "from keras.models import Sequential\n",
    "from keras.layers import Dense, Dropout, Activation, Flatten\n",
    "from keras.layers import Convolution2D, MaxPooling2D\n",
    "\n",
    "import numpy as np\n",
    "import boto3\n",
    "import time\n",
    "\n",
    "from tensorflow.examples.tutorials.mnist import input_data\n",
    "mnist = input_data.read_data_sets('./.data/', one_hot=True)"
   ]
  },
  {
   "cell_type": "code",
   "execution_count": 2,
   "metadata": {
    "collapsed": true
   },
   "outputs": [],
   "source": [
    "X_train = mnist.train.images\n",
    "X_test = mnist.test.images\n",
    "X_train = X_train.reshape(X_train.shape[0], 1, 28, 28).astype('float32')/255\n",
    "X_test = X_test.reshape(X_test.shape[0], 1, 28, 28).astype('float32')/255\n",
    "\n",
    "y_train = mnist.train.labels\n",
    "y_test = mnist.test.labels"
   ]
  },
  {
   "cell_type": "markdown",
   "metadata": {},
   "source": [
    "## Define network"
   ]
  },
  {
   "cell_type": "code",
   "execution_count": 3,
   "metadata": {
    "collapsed": true
   },
   "outputs": [],
   "source": [
    "model = Sequential()\n",
    "model.add(Convolution2D(32, 5, 5, activation='relu', input_shape=(1,28,28), dim_ordering='th'))\n",
    "model.add(MaxPooling2D(pool_size=(2,2)))\n",
    "model.add(Convolution2D(64, 5, 5, activation='relu'))\n",
    "model.add(MaxPooling2D(pool_size=(2,2)))\n",
    "model.add(Flatten())\n",
    "model.add(Dense(1024, activation='relu'))\n",
    "#model.add(Dropout(0.5))\n",
    "model.add(Dense(10, activation='softmax'))"
   ]
  },
  {
   "cell_type": "markdown",
   "metadata": {},
   "source": [
    "## Train"
   ]
  },
  {
   "cell_type": "code",
   "execution_count": 4,
   "metadata": {
    "collapsed": true
   },
   "outputs": [],
   "source": [
    "model.compile(loss='categorical_crossentropy',\n",
    "              optimizer='adadelta',\n",
    "              metrics=['accuracy'])"
   ]
  },
  {
   "cell_type": "code",
   "execution_count": 5,
   "metadata": {},
   "outputs": [
    {
     "name": "stdout",
     "output_type": "stream",
     "text": [
      "Epoch 1/10\n",
      "55000/55000 [==============================] - 17s - loss: 1.1609 - acc: 0.5838    \n",
      "Epoch 2/10\n",
      "55000/55000 [==============================] - 16s - loss: 0.1894 - acc: 0.9422    \n",
      "Epoch 3/10\n",
      "55000/55000 [==============================] - 15s - loss: 0.1222 - acc: 0.9619    \n",
      "Epoch 4/10\n",
      "55000/55000 [==============================] - 15s - loss: 0.0939 - acc: 0.9703    \n",
      "Epoch 5/10\n",
      "55000/55000 [==============================] - 15s - loss: 0.0781 - acc: 0.9750    \n",
      "Epoch 6/10\n",
      "55000/55000 [==============================] - 15s - loss: 0.0680 - acc: 0.9779    \n",
      "Epoch 7/10\n",
      "55000/55000 [==============================] - 16s - loss: 0.0591 - acc: 0.9811    \n",
      "Epoch 8/10\n",
      "55000/55000 [==============================] - 16s - loss: 0.0530 - acc: 0.9835    \n",
      "Epoch 9/10\n",
      "55000/55000 [==============================] - 15s - loss: 0.0476 - acc: 0.9847    \n",
      "Epoch 10/10\n",
      "55000/55000 [==============================] - 15s - loss: 0.0438 - acc: 0.9857    \n",
      "training time = 160.831033945\n"
     ]
    }
   ],
   "source": [
    "t0 = time.time()\n",
    "model.fit(X_train, y_train,\n",
    "          batch_size=50,\n",
    "          nb_epoch=10\n",
    "         )\n",
    "print \"training time = {}\".format(time.time() - t0)"
   ]
  },
  {
   "cell_type": "markdown",
   "metadata": {},
   "source": [
    "## Evaluate"
   ]
  },
  {
   "cell_type": "code",
   "execution_count": 6,
   "metadata": {},
   "outputs": [
    {
     "name": "stdout",
     "output_type": "stream",
     "text": [
      " 9696/10000 [============================>.] - ETA: 0s[0.044591301128594205, 0.98470000000000002]\n"
     ]
    }
   ],
   "source": [
    "score = model.evaluate(X_test, y_test, verbose=1)\n",
    "print score"
   ]
  },
  {
   "cell_type": "markdown",
   "metadata": {},
   "source": [
    "## Save Model"
   ]
  },
  {
   "cell_type": "code",
   "execution_count": 7,
   "metadata": {
    "collapsed": true
   },
   "outputs": [],
   "source": [
    "model.save('./keras.hdf5')\n",
    "\n",
    "s3 = boto3.client('s3')\n",
    "s3.upload_file(\n",
    "    './keras.hdf5',\n",
    "    'jakechenawstemp',\n",
    "    'keras.hdf5'\n",
    ")"
   ]
  }
 ],
 "metadata": {
  "kernelspec": {
   "display_name": "Python 2",
   "language": "python",
   "name": "python2"
  },
  "language_info": {
   "codemirror_mode": {
    "name": "ipython",
    "version": 2
   },
   "file_extension": ".py",
   "mimetype": "text/x-python",
   "name": "python",
   "nbconvert_exporter": "python",
   "pygments_lexer": "ipython2",
   "version": "2.7.12"
  }
 },
 "nbformat": 4,
 "nbformat_minor": 2
}
