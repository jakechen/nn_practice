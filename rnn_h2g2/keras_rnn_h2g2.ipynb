{
 "cells": [
  {
   "cell_type": "markdown",
   "metadata": {
    "deletable": true,
    "editable": true
   },
   "source": [
    "# Hitchhiker's generation with RNN using Keras"
   ]
  },
  {
   "cell_type": "markdown",
   "metadata": {
    "deletable": true,
    "editable": true
   },
   "source": [
    "Inspired by http://karpathy.github.io/2015/05/21/rnn-effectiveness/\n",
    "\n",
    "H2g2 plain text from http://www.clearwhitelight.org/hitch/hhgttg.txt"
   ]
  },
  {
   "cell_type": "markdown",
   "metadata": {
    "deletable": true,
    "editable": true
   },
   "source": [
    "## Configs"
   ]
  },
  {
   "cell_type": "code",
   "execution_count": 1,
   "metadata": {
    "collapsed": true,
    "deletable": true,
    "editable": true
   },
   "outputs": [],
   "source": [
    "seq_len = 50\n",
    "batch_size = 100\n",
    "iterations = 50000"
   ]
  },
  {
   "cell_type": "markdown",
   "metadata": {
    "deletable": true,
    "editable": true
   },
   "source": [
    "## Setup"
   ]
  },
  {
   "cell_type": "code",
   "execution_count": 2,
   "metadata": {
    "collapsed": false,
    "deletable": true,
    "editable": true
   },
   "outputs": [
    {
     "name": "stderr",
     "output_type": "stream",
     "text": [
      "Using TensorFlow backend.\n"
     ]
    }
   ],
   "source": [
    "import time\n",
    "from keras.models import Sequential\n",
    "from keras.layers import Dense, Dropout, Activation, Flatten\n",
    "from keras.layers import LSTM\n",
    "import numpy as np\n",
    "from sklearn.feature_extraction import DictVectorizer\n",
    "import logging"
   ]
  },
  {
   "cell_type": "code",
   "execution_count": 3,
   "metadata": {
    "collapsed": false,
    "deletable": true,
    "editable": true
   },
   "outputs": [],
   "source": [
    "f = open('./h2g2.txt')\n",
    "text = f.read()"
   ]
  },
  {
   "cell_type": "code",
   "execution_count": 4,
   "metadata": {
    "collapsed": false,
    "deletable": true,
    "editable": true
   },
   "outputs": [
    {
     "name": "stdout",
     "output_type": "stream",
     "text": [
      "tches. \n",
      "\n",
      "Many were increasingly of the opinion that they'd all made a big mistake in coming down from the trees in the first place. And some said that even the trees had been a bad move, and that no one should ever have left the oceans. \n",
      "\n",
      "And then, one Thursday, nearly two thousand years after one man had been nailed to a tree for saying how great it would be to be nice to people for a change, one girl sitting on her own in a small cafe in Rickmansworth suddenly realized what it was that had been going wrong all this time, and she finally knew how the world could be made a good and happy place. This time it was right, it would work, and no one would have to get nailed to anything. \n",
      "\n",
      "Sadly, however, before she could get to a phone to tell anyone- about it, a terribly stupid catastrophe occurred, and the idea was lost forever. \n",
      "\n",
      "This is not her story. \n",
      "\n",
      "But it is the story of that terrible stupid catastrophe and some of its consequences. \n",
      "\n",
      "It is also the story of a book, a book called Th\n"
     ]
    }
   ],
   "source": [
    "print(text[1000:2000])"
   ]
  },
  {
   "cell_type": "code",
   "execution_count": 5,
   "metadata": {
    "collapsed": false,
    "deletable": true,
    "editable": true
   },
   "outputs": [],
   "source": [
    "vec = DictVectorizer()"
   ]
  },
  {
   "cell_type": "code",
   "execution_count": 6,
   "metadata": {
    "collapsed": false,
    "deletable": true,
    "editable": true
   },
   "outputs": [],
   "source": [
    "letters = list(text)\n",
    "text_array = vec.fit_transform([{l:1} for l in letters])"
   ]
  },
  {
   "cell_type": "code",
   "execution_count": 7,
   "metadata": {
    "collapsed": false,
    "deletable": true,
    "editable": true
   },
   "outputs": [
    {
     "data": {
      "text/plain": [
       "(272157, 83)"
      ]
     },
     "execution_count": 7,
     "metadata": {},
     "output_type": "execute_result"
    }
   ],
   "source": [
    "text_array.shape"
   ]
  },
  {
   "cell_type": "markdown",
   "metadata": {
    "deletable": true,
    "editable": true
   },
   "source": [
    "Looks about right, we have 272157 characters in the book and there are 83 unique characters. This one-hot encoding looks accurate."
   ]
  },
  {
   "cell_type": "markdown",
   "metadata": {
    "deletable": true,
    "editable": true
   },
   "source": [
    "## Helper functions"
   ]
  },
  {
   "cell_type": "code",
   "execution_count": 8,
   "metadata": {
    "collapsed": false,
    "deletable": true,
    "editable": true
   },
   "outputs": [],
   "source": [
    "def next_batch(data, seq_len, batch_size):\n",
    "    x_batch = []\n",
    "    y_batch = []\n",
    "    for _ in range(batch_size):\n",
    "        i = np.random.randint(0, data.shape[0]-seq_len)\n",
    "        x_i = data[i:(i+seq_len)].toarray()\n",
    "        y_i = data[i+seq_len].toarray()[0]\n",
    "        x_batch.append(list(x_i))\n",
    "        y_batch.append(y_i)\n",
    "    return np.array(x_batch), np.array(y_batch)"
   ]
  },
  {
   "cell_type": "code",
   "execution_count": 9,
   "metadata": {
    "collapsed": false,
    "deletable": true,
    "editable": true
   },
   "outputs": [
    {
     "name": "stdout",
     "output_type": "stream",
     "text": [
      "(5, 20, 83)\n",
      "(5, 83)\n"
     ]
    }
   ],
   "source": [
    "# test out next_batch function\n",
    "x_batch, y_batch = next_batch(text_array, 20, 5)\n",
    "print x_batch.shape\n",
    "print y_batch.shape"
   ]
  },
  {
   "cell_type": "markdown",
   "metadata": {
    "deletable": true,
    "editable": true
   },
   "source": [
    "The function looks good. It generates a 5 records, where each record is 20 letters, where each letter is encoded as an array with length of 83."
   ]
  },
  {
   "cell_type": "code",
   "execution_count": 10,
   "metadata": {
    "collapsed": false,
    "deletable": true,
    "editable": true
   },
   "outputs": [],
   "source": [
    "def text_from_dict(arrays):\n",
    "    return ''.join([l.keys()[0] for l in vec.inverse_transform(arrays)])"
   ]
  },
  {
   "cell_type": "code",
   "execution_count": 11,
   "metadata": {
    "collapsed": false,
    "deletable": true,
    "editable": true
   },
   "outputs": [
    {
     "name": "stdout",
     "output_type": "stream",
     "text": [
      " you?\" stammered Art\n",
      "h\n"
     ]
    }
   ],
   "source": [
    "print text_from_dict(x_batch[0])\n",
    "print text_from_dict(y_batch[0].reshape(1,-1))"
   ]
  },
  {
   "cell_type": "markdown",
   "metadata": {
    "deletable": true,
    "editable": true
   },
   "source": [
    "## Define network"
   ]
  },
  {
   "cell_type": "code",
   "execution_count": 12,
   "metadata": {
    "collapsed": false,
    "deletable": true,
    "editable": true
   },
   "outputs": [],
   "source": [
    "#model = Sequential()\n",
    "#model.add(LSTM(32, return_sequences=True, stateful=True, batch_input_shape=(batch_size, seq_len, text_array.shape[1])))\n",
    "#model.add(LSTM(32, return_sequences=True, stateful=True))\n",
    "#model.add(LSTM(32, stateful=True))\n",
    "#model.add(Dense(text_array.shape[1], activation='softmax'))\n",
    "\n",
    "\n",
    "model = Sequential()\n",
    "model.add(LSTM(200,\n",
    "               input_shape=(seq_len, text_array.shape[1])\n",
    "#               batch_input_shape=(batch_size, seq_len, text_array.shape[1])\n",
    "              ))\n",
    "model.add(Dropout(0.2))\n",
    "model.add(Dense(text_array.shape[1], activation='softmax'))"
   ]
  },
  {
   "cell_type": "code",
   "execution_count": 13,
   "metadata": {
    "collapsed": false,
    "deletable": true,
    "editable": true
   },
   "outputs": [
    {
     "name": "stdout",
     "output_type": "stream",
     "text": [
      "(None, 50, 83)\n"
     ]
    }
   ],
   "source": [
    "print model.input_shape"
   ]
  },
  {
   "cell_type": "code",
   "execution_count": 14,
   "metadata": {
    "collapsed": false,
    "deletable": true,
    "editable": true
   },
   "outputs": [
    {
     "name": "stdout",
     "output_type": "stream",
     "text": [
      "_________________________________________________________________\n",
      "Layer (type)                 Output Shape              Param #   \n",
      "=================================================================\n",
      "lstm_1 (LSTM)                (None, 200)               227200    \n",
      "_________________________________________________________________\n",
      "dropout_1 (Dropout)          (None, 200)               0         \n",
      "_________________________________________________________________\n",
      "dense_1 (Dense)              (None, 83)                16683     \n",
      "=================================================================\n",
      "Total params: 243,883\n",
      "Trainable params: 243,883\n",
      "Non-trainable params: 0\n",
      "_________________________________________________________________\n",
      "None\n"
     ]
    }
   ],
   "source": [
    "print model.summary()"
   ]
  },
  {
   "cell_type": "markdown",
   "metadata": {
    "deletable": true,
    "editable": true
   },
   "source": [
    "## Train"
   ]
  },
  {
   "cell_type": "code",
   "execution_count": null,
   "metadata": {
    "collapsed": true,
    "deletable": true,
    "editable": true
   },
   "outputs": [],
   "source": [
    "model.compile(loss='categorical_crossentropy',\n",
    "              optimizer='adadelta',\n",
    "              metrics=['accuracy'])"
   ]
  },
  {
   "cell_type": "code",
   "execution_count": null,
   "metadata": {
    "collapsed": false,
    "deletable": true,
    "editable": true,
    "scrolled": true
   },
   "outputs": [],
   "source": [
    "logging.basicConfig(filename='h2g2.log', level=logging.DEBUG)\n",
    "\n",
    "t0 = time.time()\n",
    "for i in range(iterations):\n",
    "    x_batch, y_batch = next_batch(text_array, seq_len, batch_size)\n",
    "    model.train_on_batch(x_batch, y_batch)\n",
    "\n",
    "    if i%100==0:\n",
    "        logging.info('iteration complete: {}'.format(i))\n",
    "\n",
    "        logging.info('x_batch:')\n",
    "        logging.info(x_batch.shape)\n",
    "        logging.info(text_from_dict(x_batch[0]))\n",
    "        logging.info('y_batch:')\n",
    "        logging.info(y_batch.shape)\n",
    "        logging.info(text_from_dict(y_batch[0].reshape(1,-1)))\n",
    "\n",
    "#    if i%1000==0:\n",
    "        x_valid, y_valid = next_batch(text_array, seq_len, batch_size)\n",
    "        i_loss = model.test_on_batch(x_valid, y_valid)\n",
    "        logging.info('iteration loss: {}'.format(i_loss))\n",
    "print \"training time = {}\".format(time.time() - t0)"
   ]
  },
  {
   "cell_type": "markdown",
   "metadata": {
    "deletable": true,
    "editable": true
   },
   "source": [
    "## Evaluate"
   ]
  },
  {
   "cell_type": "markdown",
   "metadata": {
    "deletable": true,
    "editable": true
   },
   "source": [
    "Evaluating a sequence generator "
   ]
  },
  {
   "cell_type": "code",
   "execution_count": 19,
   "metadata": {
    "collapsed": false,
    "deletable": true,
    "editable": true
   },
   "outputs": [
    {
     "name": "stdout",
     "output_type": "stream",
     "text": [
      "se. All around the world city streets exploded wit\n"
     ]
    }
   ],
   "source": [
    "i = np.random.randint(0, text_array.shape[0])\n",
    "seed = text_array[i:(i+seq_len)].toarray()\n",
    "\n",
    "print text_from_dict(seed)"
   ]
  },
  {
   "cell_type": "code",
   "execution_count": 24,
   "metadata": {
    "collapsed": false,
    "deletable": true,
    "editable": true
   },
   "outputs": [],
   "source": [
    "output = seed.copy()\n",
    "\n",
    "for _ in range(200):\n",
    "    next_step = output[-seq_len:]\n",
    "    i = np.argmax(model.predict(next_step.reshape(-1, seq_len, 83)))\n",
    "    y_pred = np.zeros(83, dtype='int')\n",
    "    y_pred[i] = 1\n",
    "    output = np.concatenate([output, y_pred.reshape(-1,83)], axis=0)\n",
    "    "
   ]
  },
  {
   "cell_type": "code",
   "execution_count": 25,
   "metadata": {
    "collapsed": false,
    "deletable": true,
    "editable": true
   },
   "outputs": [
    {
     "data": {
      "text/plain": [
       "(250, 83)"
      ]
     },
     "execution_count": 25,
     "metadata": {},
     "output_type": "execute_result"
    }
   ],
   "source": [
    "output.shape"
   ]
  },
  {
   "cell_type": "code",
   "execution_count": 26,
   "metadata": {
    "collapsed": false,
    "deletable": true,
    "editable": true
   },
   "outputs": [
    {
     "data": {
      "text/plain": [
       "'se. All around the world city streets exploded with a small problem with a start was a small problem with a small problem with a start was a small problem with a small problem with a start was a small problem with a small problem with a start was a s'"
      ]
     },
     "execution_count": 26,
     "metadata": {},
     "output_type": "execute_result"
    }
   ],
   "source": [
    "text_from_dict(output)"
   ]
  },
  {
   "cell_type": "code",
   "execution_count": null,
   "metadata": {
    "collapsed": true,
    "deletable": true,
    "editable": true
   },
   "outputs": [],
   "source": []
  }
 ],
 "metadata": {
  "kernelspec": {
   "display_name": "Python 2",
   "language": "python",
   "name": "python2"
  }
 },
 "nbformat": 4,
 "nbformat_minor": 2
}
